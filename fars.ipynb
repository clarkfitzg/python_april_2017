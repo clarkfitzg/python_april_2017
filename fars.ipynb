{
 "cells": [
  {
   "cell_type": "markdown",
   "metadata": {},
   "source": [
    "# Python Workshop\n",
    "\n",
    "UC Davis Data Science Initiative\n",
    "\n",
    "Clark Fitzgerald [@clarkfitzg](https://twitter.com/clarkfitzg)\n",
    "\n",
    "# This notebook: https://goo.gl/PKxI1u\n",
    "\n",
    "slides: https://docs.google.com/presentation/d/1v6vtDncRmG0iFYIj0TU25tRp9ESbNXYYiO9lMjkOn3E/edit?usp=sharing"
   ]
  },
  {
   "cell_type": "code",
   "execution_count": 27,
   "metadata": {
    "collapsed": true
   },
   "outputs": [],
   "source": [
    "import os"
   ]
  },
  {
   "cell_type": "code",
   "execution_count": 28,
   "metadata": {
    "collapsed": true
   },
   "outputs": [],
   "source": [
    "from pandas import DataFrame\n",
    "from dbfread import DBF\n",
    "\n",
    "# Might need to install this from command line:\n",
    "#\n",
    "# $ pip install dbfread"
   ]
  },
  {
   "cell_type": "code",
   "execution_count": 29,
   "metadata": {
    "collapsed": false
   },
   "outputs": [],
   "source": [
    "# This is the module found in my current directory, the fars.py file\n",
    "import fars\n",
    "\n",
    "# Change this according to what's convenient for you\n",
    "DATADIR = os.path.expanduser(\"~/data/fars/\")"
   ]
  },
  {
   "cell_type": "code",
   "execution_count": 30,
   "metadata": {
    "collapsed": false
   },
   "outputs": [
    {
     "name": "stdout",
     "output_type": "stream",
     "text": [
      "Already downloaded /Users/clark/data/fars/FARS2010.zip\n",
      "Already downloaded /Users/clark/data/fars/FARS2011.zip\n",
      "/Users/clark/data/fars/1986 already exists. Skipping.\n",
      "/Users/clark/data/fars/2001 already exists. Skipping.\n",
      "/Users/clark/data/fars/2002 already exists. Skipping.\n",
      "/Users/clark/data/fars/2003 already exists. Skipping.\n",
      "/Users/clark/data/fars/2004 already exists. Skipping.\n",
      "/Users/clark/data/fars/2005 already exists. Skipping.\n",
      "/Users/clark/data/fars/2006 already exists. Skipping.\n",
      "/Users/clark/data/fars/2007 already exists. Skipping.\n",
      "/Users/clark/data/fars/2008 already exists. Skipping.\n",
      "/Users/clark/data/fars/2009 already exists. Skipping.\n",
      "/Users/clark/data/fars/2010 already exists. Skipping.\n",
      "/Users/clark/data/fars/2011 already exists. Skipping.\n",
      "/Users/clark/data/fars/00 already exists. Skipping.\n",
      "/Users/clark/data/fars/99 already exists. Skipping.\n"
     ]
    }
   ],
   "source": [
    "fars.download(datadir = DATADIR)\n",
    "fars.unzip_all(DATADIR)"
   ]
  },
  {
   "cell_type": "markdown",
   "metadata": {},
   "source": [
    "## Exercise 1\n",
    "\n",
    "Here are a couple functions that were helpful when downloading the data.\n",
    "\n",
    "Your task- fill in the code to actually do it. Check if you're correct by running the test.\n",
    "\n",
    "This is the time to get your feet wet trying Python."
   ]
  },
  {
   "cell_type": "code",
   "execution_count": 31,
   "metadata": {
    "collapsed": false
   },
   "outputs": [
    {
     "name": "stdout",
     "output_type": "stream",
     "text": [
      "Trying:\n",
      "    before2012(\"2011\")\n",
      "Expecting:\n",
      "    True\n",
      "**********************************************************************\n",
      "File \"__main__\", line 11, in __main__.before2012\n",
      "Failed example:\n",
      "    before2012(\"2011\")\n",
      "Expected:\n",
      "    True\n",
      "Got:\n",
      "    False\n",
      "Trying:\n",
      "    before2012(\"Auxiliary_FARS_Files_Formats/\")\n",
      "Expecting:\n",
      "    False\n",
      "ok\n",
      "Trying:\n",
      "    isfars(\"FARS2011.zip\")\n",
      "Expecting:\n",
      "    True\n",
      "**********************************************************************\n",
      "File \"__main__\", line 25, in __main__.isfars\n",
      "Failed example:\n",
      "    isfars(\"FARS2011.zip\")\n",
      "Expected:\n",
      "    True\n",
      "Got:\n",
      "    False\n",
      "Trying:\n",
      "    isfars(\"MI2011DBF.zip\")\n",
      "Expecting:\n",
      "    False\n",
      "ok\n",
      "2 items had no tests:\n",
      "    __main__\n",
      "    __main__.plot_response_time\n",
      "**********************************************************************\n",
      "2 items had failures:\n",
      "   1 of   2 in __main__.before2012\n",
      "   1 of   2 in __main__.isfars\n",
      "4 tests in 4 items.\n",
      "2 passed and 2 failed.\n",
      "***Test Failed*** 2 failures.\n"
     ]
    },
    {
     "data": {
      "text/plain": [
       "TestResults(failed=2, attempted=4)"
      ]
     },
     "execution_count": 31,
     "metadata": {},
     "output_type": "execute_result"
    }
   ],
   "source": [
    "def before2012(x, start=2010):\n",
    "    \"\"\"\n",
    "    Looking at the top level directory here: ftp://ftp.nhtsa.dot.gov/fars/\n",
    "    We need to find those that are only years.\n",
    "    \n",
    "    In 2012 the directory pattern changed, so we'll just look at those\n",
    "    years before that.\n",
    "\n",
    "    start year can be as early as 1975.\n",
    "    \n",
    "    >>> before2012(\"2011\")\n",
    "    True\n",
    "    >>> before2012(\"Auxiliary_FARS_Files_Formats/\")\n",
    "    False\n",
    "    \n",
    "    \"\"\"\n",
    "    return False\n",
    "    \n",
    "    \n",
    "\n",
    "def isfars(fname):\n",
    "    \"\"\"\n",
    "    Return True if the filename looks like a FARS file\n",
    "    \n",
    "    >>> isfars(\"FARS2011.zip\")\n",
    "    True\n",
    "    >>> isfars(\"MI2011DBF.zip\")\n",
    "    False\n",
    "    \n",
    "    \"\"\"\n",
    "    return False\n",
    "\n",
    "\n",
    "import doctest\n",
    "doctest.testmod(verbose=True)"
   ]
  },
  {
   "cell_type": "markdown",
   "metadata": {},
   "source": [
    "## Data Exploration\n",
    "\n",
    "If you're having trouble downloading with the script you can try the FTP server from your web browser: [ftp://ftp.nhtsa.dot.gov/fars/](ftp://ftp.nhtsa.dot.gov/fars/)\n",
    "\n",
    "If that doesn't work there's one year available on our web server: http://anson.ucdavis.edu/~clarkf/"
   ]
  },
  {
   "cell_type": "code",
   "execution_count": 6,
   "metadata": {
    "collapsed": false
   },
   "outputs": [],
   "source": [
    "# Load in the accidents from 2011\n",
    "acc11 = DataFrame(iter(DBF(DATADIR + \"2011/accident.dbf\")))"
   ]
  },
  {
   "cell_type": "markdown",
   "metadata": {},
   "source": [
    "Usually the first thing I do when looking at a table is check the dimensions and the data types. From the documentation I expect approximately 40,000 rows and 50 columns."
   ]
  },
  {
   "cell_type": "code",
   "execution_count": 7,
   "metadata": {
    "collapsed": false
   },
   "outputs": [
    {
     "data": {
      "text/plain": [
       "(29867, 50)"
      ]
     },
     "execution_count": 7,
     "metadata": {},
     "output_type": "execute_result"
    }
   ],
   "source": [
    "acc11.shape"
   ]
  },
  {
   "cell_type": "code",
   "execution_count": 8,
   "metadata": {
    "collapsed": false
   },
   "outputs": [
    {
     "data": {
      "text/plain": [
       "STATE           int64\n",
       "ST_CASE         int64\n",
       "VE_TOTAL        int64\n",
       "VE_FORMS        int64\n",
       "PVH_INVL        int64\n",
       "PEDS            int64\n",
       "PERNOTMVIT      int64\n",
       "PERMVIT         int64\n",
       "PERSONS         int64\n",
       "COUNTY          int64\n",
       "CITY            int64\n",
       "DAY             int64\n",
       "MONTH           int64\n",
       "YEAR            int64\n",
       "DAY_WEEK        int64\n",
       "HOUR            int64\n",
       "MINUTE          int64\n",
       "NHS             int64\n",
       "ROAD_FNC        int64\n",
       "ROUTE           int64\n",
       "TWAY_ID        object\n",
       "TWAY_ID2       object\n",
       "MILEPT          int64\n",
       "LATITUDE      float64\n",
       "LONGITUD      float64\n",
       "SP_JUR          int64\n",
       "HARM_EV         int64\n",
       "MAN_COLL        int64\n",
       "RELJCT1         int64\n",
       "RELJCT2         int64\n",
       "TYP_INT         int64\n",
       "REL_ROAD        int64\n",
       "WRK_ZONE        int64\n",
       "LGT_COND        int64\n",
       "WEATHER1        int64\n",
       "WEATHER2        int64\n",
       "WEATHER         int64\n",
       "SCH_BUS         int64\n",
       "RAIL           object\n",
       "NOT_HOUR        int64\n",
       "NOT_MIN         int64\n",
       "ARR_HOUR        int64\n",
       "ARR_MIN         int64\n",
       "HOSP_HR         int64\n",
       "HOSP_MN         int64\n",
       "CF1             int64\n",
       "CF2             int64\n",
       "CF3             int64\n",
       "FATALS          int64\n",
       "DRUNK_DR        int64\n",
       "dtype: object"
      ]
     },
     "execution_count": 8,
     "metadata": {},
     "output_type": "execute_result"
    }
   ],
   "source": [
    "acc11.dtypes"
   ]
  },
  {
   "cell_type": "code",
   "execution_count": 9,
   "metadata": {
    "collapsed": false
   },
   "outputs": [
    {
     "data": {
      "text/html": [
       "<div>\n",
       "<table border=\"1\" class=\"dataframe\">\n",
       "  <thead>\n",
       "    <tr style=\"text-align: right;\">\n",
       "      <th></th>\n",
       "      <th>STATE</th>\n",
       "      <th>ST_CASE</th>\n",
       "      <th>VE_TOTAL</th>\n",
       "      <th>VE_FORMS</th>\n",
       "      <th>PVH_INVL</th>\n",
       "      <th>PEDS</th>\n",
       "      <th>PERNOTMVIT</th>\n",
       "      <th>PERMVIT</th>\n",
       "      <th>PERSONS</th>\n",
       "      <th>COUNTY</th>\n",
       "      <th>...</th>\n",
       "      <th>NOT_MIN</th>\n",
       "      <th>ARR_HOUR</th>\n",
       "      <th>ARR_MIN</th>\n",
       "      <th>HOSP_HR</th>\n",
       "      <th>HOSP_MN</th>\n",
       "      <th>CF1</th>\n",
       "      <th>CF2</th>\n",
       "      <th>CF3</th>\n",
       "      <th>FATALS</th>\n",
       "      <th>DRUNK_DR</th>\n",
       "    </tr>\n",
       "  </thead>\n",
       "  <tbody>\n",
       "    <tr>\n",
       "      <th>0</th>\n",
       "      <td>1</td>\n",
       "      <td>10001</td>\n",
       "      <td>1</td>\n",
       "      <td>1</td>\n",
       "      <td>0</td>\n",
       "      <td>0</td>\n",
       "      <td>0</td>\n",
       "      <td>1</td>\n",
       "      <td>1</td>\n",
       "      <td>5</td>\n",
       "      <td>...</td>\n",
       "      <td>99</td>\n",
       "      <td>17</td>\n",
       "      <td>2</td>\n",
       "      <td>99</td>\n",
       "      <td>99</td>\n",
       "      <td>0</td>\n",
       "      <td>0</td>\n",
       "      <td>0</td>\n",
       "      <td>1</td>\n",
       "      <td>1</td>\n",
       "    </tr>\n",
       "    <tr>\n",
       "      <th>1</th>\n",
       "      <td>1</td>\n",
       "      <td>10002</td>\n",
       "      <td>1</td>\n",
       "      <td>1</td>\n",
       "      <td>0</td>\n",
       "      <td>0</td>\n",
       "      <td>0</td>\n",
       "      <td>1</td>\n",
       "      <td>1</td>\n",
       "      <td>73</td>\n",
       "      <td>...</td>\n",
       "      <td>46</td>\n",
       "      <td>23</td>\n",
       "      <td>50</td>\n",
       "      <td>88</td>\n",
       "      <td>88</td>\n",
       "      <td>0</td>\n",
       "      <td>0</td>\n",
       "      <td>0</td>\n",
       "      <td>1</td>\n",
       "      <td>0</td>\n",
       "    </tr>\n",
       "    <tr>\n",
       "      <th>2</th>\n",
       "      <td>1</td>\n",
       "      <td>10003</td>\n",
       "      <td>2</td>\n",
       "      <td>2</td>\n",
       "      <td>0</td>\n",
       "      <td>0</td>\n",
       "      <td>0</td>\n",
       "      <td>5</td>\n",
       "      <td>5</td>\n",
       "      <td>97</td>\n",
       "      <td>...</td>\n",
       "      <td>99</td>\n",
       "      <td>9</td>\n",
       "      <td>16</td>\n",
       "      <td>99</td>\n",
       "      <td>99</td>\n",
       "      <td>0</td>\n",
       "      <td>0</td>\n",
       "      <td>0</td>\n",
       "      <td>2</td>\n",
       "      <td>1</td>\n",
       "    </tr>\n",
       "    <tr>\n",
       "      <th>3</th>\n",
       "      <td>1</td>\n",
       "      <td>10005</td>\n",
       "      <td>1</td>\n",
       "      <td>1</td>\n",
       "      <td>0</td>\n",
       "      <td>0</td>\n",
       "      <td>0</td>\n",
       "      <td>1</td>\n",
       "      <td>1</td>\n",
       "      <td>15</td>\n",
       "      <td>...</td>\n",
       "      <td>99</td>\n",
       "      <td>15</td>\n",
       "      <td>40</td>\n",
       "      <td>88</td>\n",
       "      <td>88</td>\n",
       "      <td>0</td>\n",
       "      <td>0</td>\n",
       "      <td>0</td>\n",
       "      <td>1</td>\n",
       "      <td>0</td>\n",
       "    </tr>\n",
       "    <tr>\n",
       "      <th>4</th>\n",
       "      <td>1</td>\n",
       "      <td>10006</td>\n",
       "      <td>1</td>\n",
       "      <td>1</td>\n",
       "      <td>0</td>\n",
       "      <td>0</td>\n",
       "      <td>0</td>\n",
       "      <td>2</td>\n",
       "      <td>2</td>\n",
       "      <td>71</td>\n",
       "      <td>...</td>\n",
       "      <td>99</td>\n",
       "      <td>6</td>\n",
       "      <td>16</td>\n",
       "      <td>99</td>\n",
       "      <td>99</td>\n",
       "      <td>0</td>\n",
       "      <td>0</td>\n",
       "      <td>0</td>\n",
       "      <td>1</td>\n",
       "      <td>0</td>\n",
       "    </tr>\n",
       "  </tbody>\n",
       "</table>\n",
       "<p>5 rows × 50 columns</p>\n",
       "</div>"
      ],
      "text/plain": [
       "   STATE  ST_CASE  VE_TOTAL  VE_FORMS  PVH_INVL  PEDS  PERNOTMVIT  PERMVIT  \\\n",
       "0      1    10001         1         1         0     0           0        1   \n",
       "1      1    10002         1         1         0     0           0        1   \n",
       "2      1    10003         2         2         0     0           0        5   \n",
       "3      1    10005         1         1         0     0           0        1   \n",
       "4      1    10006         1         1         0     0           0        2   \n",
       "\n",
       "   PERSONS  COUNTY    ...     NOT_MIN  ARR_HOUR  ARR_MIN  HOSP_HR  HOSP_MN  \\\n",
       "0        1       5    ...          99        17        2       99       99   \n",
       "1        1      73    ...          46        23       50       88       88   \n",
       "2        5      97    ...          99         9       16       99       99   \n",
       "3        1      15    ...          99        15       40       88       88   \n",
       "4        2      71    ...          99         6       16       99       99   \n",
       "\n",
       "   CF1  CF2  CF3  FATALS  DRUNK_DR  \n",
       "0    0    0    0       1         1  \n",
       "1    0    0    0       1         0  \n",
       "2    0    0    0       2         1  \n",
       "3    0    0    0       1         0  \n",
       "4    0    0    0       1         0  \n",
       "\n",
       "[5 rows x 50 columns]"
      ]
     },
     "execution_count": 9,
     "metadata": {},
     "output_type": "execute_result"
    }
   ],
   "source": [
    "acc11.head()"
   ]
  },
  {
   "cell_type": "markdown",
   "metadata": {},
   "source": [
    "These are mostly integers, because they're coded according to a manual. Think categorical variables, or factors in R. To actually make sense of these we'll need to have all the lookup tables. If you can find them online please let me know!\n",
    "\n",
    "## Maps\n",
    "\n",
    "Lets map accidents that occurred around Davis / Sacramento.\n",
    "\n",
    "We'll use folium: https://folium.readthedocs.io/en/latest/ \n",
    "\n",
    "(Thanks Nick for the recommendation)"
   ]
  },
  {
   "cell_type": "code",
   "execution_count": 10,
   "metadata": {
    "collapsed": false
   },
   "outputs": [],
   "source": [
    "# Might need to install this from command line:\n",
    "#\n",
    "# $ pip install folium\n",
    "\n",
    "import folium"
   ]
  },
  {
   "cell_type": "code",
   "execution_count": 11,
   "metadata": {
    "collapsed": false
   },
   "outputs": [
    {
     "data": {
      "text/html": [
       "<div style=\"width:100%;\"><div style=\"position:relative;width:100%;height:0;padding-bottom:60%;\"><iframe src=\"data:text/html;charset=utf-8;base64,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\" style=\"position:absolute;width:100%;height:100%;left:0;top:0;border:none !important;\" allowfullscreen webkitallowfullscreen mozallowfullscreen></iframe></div></div>"
      ],
      "text/plain": [
       "<folium.folium.Map at 0x1153a6cf8>"
      ]
     },
     "execution_count": 11,
     "metadata": {},
     "output_type": "execute_result"
    }
   ],
   "source": [
    "sac = folium.Map(location=[38.5449, -121.7405])\n",
    "sac"
   ]
  },
  {
   "cell_type": "markdown",
   "metadata": {},
   "source": [
    "That's a nice looking map, now we'll add points for accidents.\n",
    "\n",
    "First we need to pick out those accidents to display. We can subset using square brackets."
   ]
  },
  {
   "cell_type": "code",
   "execution_count": 12,
   "metadata": {
    "collapsed": true
   },
   "outputs": [],
   "source": [
    "acc_sac = acc11[(38 < acc11[\"LATITUDE\"])\n",
    "                & (acc11[\"LATITUDE\"] < 39)\n",
    "                & (-122 < acc11[\"LONGITUD\"])\n",
    "                & (acc11[\"LONGITUD\"] < -121)\n",
    "               ]"
   ]
  },
  {
   "cell_type": "code",
   "execution_count": 13,
   "metadata": {
    "collapsed": false
   },
   "outputs": [],
   "source": [
    "for x in acc_sac[[\"LATITUDE\", \"LONGITUD\"]].itertuples(index = False):\n",
    "    folium.Marker(x).add_to(sac)"
   ]
  },
  {
   "cell_type": "code",
   "execution_count": 14,
   "metadata": {
    "collapsed": false
   },
   "outputs": [
    {
     "data": {
      "text/html": [
       "<div style=\"width:100%;\"><div style=\"position:relative;width:100%;height:0;padding-bottom:60%;\"><iframe src=\"data:text/html;charset=utf-8;base64,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\" style=\"position:absolute;width:100%;height:100%;left:0;top:0;border:none !important;\" allowfullscreen webkitallowfullscreen mozallowfullscreen></iframe></div></div>"
      ],
      "text/plain": [
       "<folium.folium.Map at 0x1153a6cf8>"
      ]
     },
     "execution_count": 14,
     "metadata": {},
     "output_type": "execute_result"
    }
   ],
   "source": [
    "sac"
   ]
  },
  {
   "cell_type": "markdown",
   "metadata": {},
   "source": [
    "## Exercise 2\n",
    "\n",
    "Modify the above code to add a popup for each point indicating whether `DRUNK_DR` is 0 or 1. See the folium docs: https://folium.readthedocs.io/en/latest/quickstart.html#markers"
   ]
  },
  {
   "cell_type": "markdown",
   "metadata": {},
   "source": [
    "## The Golden Hour\n",
    "\n",
    "gold·en hour (noun) MEDICINE\n",
    "\n",
    "> The first hour after the occurrence of a traumatic injury, considered the most critical for successful emergency treatment.\n",
    "\n",
    "Let's look at how much time passed between when an accident occurred and the first responders arrived on the scene.\n",
    "\n",
    "Here's some relevant info from the docs:\n",
    "\n",
    "```\n",
    "C9B Minute of Crash\n",
    "\n",
    "Definition: This data element records the minutes after the hour at which the crash occurred.\n",
    "\n",
    "Additional Information: All time is 24-hour military time.\n",
    "\n",
    "The time of the crash/arrival of the emergency medical service can occur in a different day than\n",
    "the arrival of emergency medical service at the crash scene/hospital.\n",
    "This data element also appears in the Vehicle and Person data files and in the Parkwork data\n",
    "file as PMINUTE.\n",
    "\n",
    "SAS Name: MINUTE\n",
    "1975- 2010-\n",
    "2008 2009 Later\n",
    "00-59 00-59 00-59 Minute\n",
    "-- 88 -- Not Applicable or Not Notified\n",
    "99 99 99 Unknown\n",
    "\n",
    "\n",
    "C30B Minute of Arrival at Scene\n",
    "\n",
    "Definition: This data element records the minutes after the hour that emergency medical\n",
    "service arrived on the crash scene.\n",
    "\n",
    "Prior to 2015, this data element’s Locator Code or Data Element Number was C29B.\n",
    "SAS Name: ARR_MIN\n",
    "1975- 1999- 2009-\n",
    "1998 2008 Later\n",
    "00-59 00-59 00-59 Minute\n",
    "00 -- Not Notified or Officially Cancelled\n",
    "(when ARR_HOUR = 00)\n",
    "-- 00 -- Not Notified (when ARR_HOUR = 00)\n",
    "-- -- 88 Not Applicable or Not Notified\n",
    "-- 97 97 Officially Cancelled\n",
    "-- 98 98 Unknown if Arrived\n",
    "99 99 99 Unknown Minutes\n",
    "```"
   ]
  },
  {
   "cell_type": "markdown",
   "metadata": {},
   "source": [
    "So we can use the time elements in the data to see how long it takes for the emergency medical services to arrive.\n",
    "\n",
    "__Major point:__ this can be done as a streaming computation.\n",
    "\n",
    "I think of streams of data as a generalization of typical in memory data structures. In this case all I will be doing is counting, so one pass through the data is sufficient. This technique can be used to efficiently count all the responses in the entire data set."
   ]
  },
  {
   "cell_type": "code",
   "execution_count": 15,
   "metadata": {
    "collapsed": false
   },
   "outputs": [],
   "source": [
    "minutes11 = fars.all_responses(DATADIR + \"2011/accident.dbf\")"
   ]
  },
  {
   "cell_type": "code",
   "execution_count": 16,
   "metadata": {
    "collapsed": false
   },
   "outputs": [
    {
     "data": {
      "text/plain": [
       "<generator object all_responses at 0x118b460a0>"
      ]
     },
     "execution_count": 16,
     "metadata": {},
     "output_type": "execute_result"
    }
   ],
   "source": [
    "minutes11"
   ]
  },
  {
   "cell_type": "code",
   "execution_count": 17,
   "metadata": {
    "collapsed": false
   },
   "outputs": [
    {
     "data": {
      "text/plain": [
       "11"
      ]
     },
     "execution_count": 17,
     "metadata": {},
     "output_type": "execute_result"
    }
   ],
   "source": [
    "next(minutes11)"
   ]
  },
  {
   "cell_type": "code",
   "execution_count": 18,
   "metadata": {
    "collapsed": true
   },
   "outputs": [],
   "source": [
    "from collections import Counter\n",
    "\n",
    "count11 = Counter(minutes11)"
   ]
  },
  {
   "cell_type": "code",
   "execution_count": 19,
   "metadata": {
    "collapsed": false
   },
   "outputs": [
    {
     "data": {
      "text/plain": [
       "[(-inf, 14321),\n",
       " (6, 1024),\n",
       " (5, 977),\n",
       " (7, 959),\n",
       " (10, 895),\n",
       " (8, 874),\n",
       " (9, 824),\n",
       " (4, 819),\n",
       " (11, 686),\n",
       " (12, 652)]"
      ]
     },
     "execution_count": 19,
     "metadata": {},
     "output_type": "execute_result"
    }
   ],
   "source": [
    "count11.most_common(10)"
   ]
  },
  {
   "cell_type": "code",
   "execution_count": 20,
   "metadata": {
    "collapsed": true
   },
   "outputs": [],
   "source": [
    "# Little more cleaning so we can visualize\n",
    "\n",
    "import math\n",
    "del count11[-math.inf]"
   ]
  },
  {
   "cell_type": "code",
   "execution_count": 21,
   "metadata": {
    "collapsed": false
   },
   "outputs": [
    {
     "data": {
      "text/plain": [
       "[(6, 1024),\n",
       " (5, 977),\n",
       " (7, 959),\n",
       " (10, 895),\n",
       " (8, 874),\n",
       " (9, 824),\n",
       " (4, 819),\n",
       " (11, 686),\n",
       " (12, 652),\n",
       " (13, 577)]"
      ]
     },
     "execution_count": 21,
     "metadata": {},
     "output_type": "execute_result"
    }
   ],
   "source": [
    "count11.most_common(10)"
   ]
  },
  {
   "cell_type": "code",
   "execution_count": 22,
   "metadata": {
    "collapsed": true
   },
   "outputs": [],
   "source": [
    "# Boilerplate for plotting in Ipython notebooks\n",
    "\n",
    "import matplotlib.pyplot as plt\n",
    "% matplotlib inline\n",
    "plt.rcParams['figure.figsize'] = (10.0, 8.0)"
   ]
  },
  {
   "cell_type": "code",
   "execution_count": 23,
   "metadata": {
    "collapsed": false
   },
   "outputs": [],
   "source": [
    "minutes = list(count11.keys())\n",
    "counts = list(count11.values())"
   ]
  },
  {
   "cell_type": "code",
   "execution_count": 24,
   "metadata": {
    "collapsed": false
   },
   "outputs": [
    {
     "data": {
      "text/plain": [
       "[<matplotlib.lines.Line2D at 0x11a57e860>]"
      ]
     },
     "execution_count": 24,
     "metadata": {},
     "output_type": "execute_result"
    },
    {
     "data": {
      "image/png": "[encoded data removed]",
      "text/plain": [
       "<matplotlib.figure.Figure at 0x116ea1550>"
      ]
     },
     "metadata": {},
     "output_type": "display_data"
    }
   ],
   "source": [
    "plt.scatter(minutes, counts)\n",
    "plt.title(\"minutes between accident and first medical response\")\n",
    "plt.xlim((-10, 120))\n",
    "plt.ylim((0, 1200))\n",
    "plt.xlabel(\"minutes\")\n",
    "plt.ylabel(\"counts\")\n",
    "\n",
    "# The golden hour\n",
    "plt.plot((60, 60), plt.ylim())"
   ]
  },
  {
   "cell_type": "markdown",
   "metadata": {},
   "source": [
    "So it looks like emergency medical services typically made it to the scene within the first hour, with most responses occurring by 20 minutes.\n",
    "\n",
    "I wonder if it was any different before cellphones were as popular?"
   ]
  },
  {
   "cell_type": "code",
   "execution_count": 25,
   "metadata": {
    "collapsed": false
   },
   "outputs": [],
   "source": [
    "def plot_response_time(fname = DATADIR + \"2011/accident.dbf\"):\n",
    "    \"\"\"\n",
    "    Take the code we wrote interactively above and generalize it into a function.\n",
    "    \"\"\"\n",
    "    responses = fars.all_responses(fname)\n",
    "    counted = Counter(responses)\n",
    "    del counted[-math.inf]\n",
    "\n",
    "    minutes = list(counted.keys())\n",
    "    counts = list(counted.values())\n",
    "\n",
    "    plt.scatter(minutes, counts)\n",
    "    plt.title(fname + \": minutes between accident and first medical response\")\n",
    "    plt.xlim((-10, 120))\n",
    "    plt.ylim((0, max(counts) + 100))\n",
    "    plt.xlabel(\"minutes\")\n",
    "    plt.ylabel(\"counts\")\n",
    "\n",
    "    # The golden hour\n",
    "    plt.plot((60, 60), plt.ylim())"
   ]
  },
  {
   "cell_type": "code",
   "execution_count": 26,
   "metadata": {
    "collapsed": false
   },
   "outputs": [
    {
     "data": {
      "image/png": "[encoded data removed]",
      "text/plain": [
       "<matplotlib.figure.Figure at 0x11ccdd668>"
      ]
     },
     "metadata": {},
     "output_type": "display_data"
    }
   ],
   "source": [
    "plot_response_time(DATADIR + \"1986/acc1986.dbf\")"
   ]
  },
  {
   "cell_type": "markdown",
   "metadata": {},
   "source": [
    "Looks like more people rounded to the 5 minute mark in 1986."
   ]
  },
  {
   "cell_type": "markdown",
   "metadata": {},
   "source": [
    "## Exercise 3\n",
    "\n",
    "Using the `Counter()` object, find out relatively how many responses were within the golden hour.\n",
    "\n",
    "## Bonus\n",
    "\n",
    "Make this plot for all the data since 1975, using a minimal amount of memory.\n",
    "\n",
    "See `itertools.chain`."
   ]
  }
 ],
 "metadata": {
  "anaconda-cloud": {},
  "kernelspec": {
   "display_name": "Python 3",
   "language": "python",
   "name": "python3"
  },
  "language_info": {
   "codemirror_mode": {
    "name": "ipython",
    "version": 3
   },
   "file_extension": ".py",
   "mimetype": "text/x-python",
   "name": "python",
   "nbconvert_exporter": "python",
   "pygments_lexer": "ipython3",
   "version": "3.5.2"
  }
 },
 "nbformat": 4,
 "nbformat_minor": 0
}
