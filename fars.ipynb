{
 "cells": [
  {
   "cell_type": "markdown",
   "metadata": {},
   "source": [
    "# Python Workshop\n",
    "\n",
    "UC Davis Data Science Initiative\n",
    "\n",
    "Clark Fitzgerald [@clarkfitzg](https://twitter.com/clarkfitzg)\n",
    "\n",
    "# This notebook: https://goo.gl/PKxI1u\n",
    "\n",
    "slides: https://docs.google.com/presentation/d/1v6vtDncRmG0iFYIj0TU25tRp9ESbNXYYiO9lMjkOn3E/edit?usp=sharing"
   ]
  },
  {
   "cell_type": "code",
   "execution_count": 27,
   "metadata": {
    "collapsed": true
   },
   "outputs": [],
   "source": [
    "import os"
   ]
  },
  {
   "cell_type": "code",
   "execution_count": 28,
   "metadata": {
    "collapsed": true
   },
   "outputs": [],
   "source": [
    "from pandas import DataFrame\n",
    "from dbfread import DBF\n",
    "\n",
    "# Might need to install this from command line:\n",
    "#\n",
    "# $ pip install dbfread"
   ]
  },
  {
   "cell_type": "code",
   "execution_count": 29,
   "metadata": {
    "collapsed": false
   },
   "outputs": [],
   "source": [
    "# This is the module found in my current directory, the fars.py file\n",
    "import fars\n",
    "\n",
    "# Change this according to what's convenient for you\n",
    "DATADIR = \"./\""
   ]
  },
  {
   "cell_type": "code",
   "execution_count": 30,
   "metadata": {
    "collapsed": false
   },
   "outputs": [
    {
     "name": "stdout",
     "output_type": "stream",
     "text": [
      "Already downloaded /Users/clark/data/fars/FARS2010.zip\n",
      "Already downloaded /Users/clark/data/fars/FARS2011.zip\n",
      "/Users/clark/data/fars/1986 already exists. Skipping.\n",
      "/Users/clark/data/fars/2001 already exists. Skipping.\n",
      "/Users/clark/data/fars/2002 already exists. Skipping.\n",
      "/Users/clark/data/fars/2003 already exists. Skipping.\n",
      "/Users/clark/data/fars/2004 already exists. Skipping.\n",
      "/Users/clark/data/fars/2005 already exists. Skipping.\n",
      "/Users/clark/data/fars/2006 already exists. Skipping.\n",
      "/Users/clark/data/fars/2007 already exists. Skipping.\n",
      "/Users/clark/data/fars/2008 already exists. Skipping.\n",
      "/Users/clark/data/fars/2009 already exists. Skipping.\n",
      "/Users/clark/data/fars/2010 already exists. Skipping.\n",
      "/Users/clark/data/fars/2011 already exists. Skipping.\n",
      "/Users/clark/data/fars/00 already exists. Skipping.\n",
      "/Users/clark/data/fars/99 already exists. Skipping.\n"
     ]
    }
   ],
   "source": [
    "fars.download(datadir = DATADIR)\n",
    "fars.unzip_all(DATADIR)"
   ]
  },
  {
   "cell_type": "markdown",
   "metadata": {},
   "source": [
    "## Exercise 1\n",
    "\n",
    "Here are a couple functions that were helpful when downloading the data.\n",
    "\n",
    "Your task- fill in the code to actually do it. Check if you're correct by running the test.\n",
    "\n",
    "This is the time to get your feet wet trying Python."
   ]
  },
  {
   "cell_type": "code",
   "execution_count": 31,
   "metadata": {
    "collapsed": false
   },
   "outputs": [
    {
     "name": "stdout",
     "output_type": "stream",
     "text": [
      "Trying:\n",
      "    before2012(\"2011\")\n",
      "Expecting:\n",
      "    True\n",
      "**********************************************************************\n",
      "File \"__main__\", line 11, in __main__.before2012\n",
      "Failed example:\n",
      "    before2012(\"2011\")\n",
      "Expected:\n",
      "    True\n",
      "Got:\n",
      "    False\n",
      "Trying:\n",
      "    before2012(\"Auxiliary_FARS_Files_Formats/\")\n",
      "Expecting:\n",
      "    False\n",
      "ok\n",
      "Trying:\n",
      "    isfars(\"FARS2011.zip\")\n",
      "Expecting:\n",
      "    True\n",
      "**********************************************************************\n",
      "File \"__main__\", line 25, in __main__.isfars\n",
      "Failed example:\n",
      "    isfars(\"FARS2011.zip\")\n",
      "Expected:\n",
      "    True\n",
      "Got:\n",
      "    False\n",
      "Trying:\n",
      "    isfars(\"MI2011DBF.zip\")\n",
      "Expecting:\n",
      "    False\n",
      "ok\n",
      "2 items had no tests:\n",
      "    __main__\n",
      "    __main__.plot_response_time\n",
      "**********************************************************************\n",
      "2 items had failures:\n",
      "   1 of   2 in __main__.before2012\n",
      "   1 of   2 in __main__.isfars\n",
      "4 tests in 4 items.\n",
      "2 passed and 2 failed.\n",
      "***Test Failed*** 2 failures.\n"
     ]
    },
    {
     "data": {
      "text/plain": [
       "TestResults(failed=2, attempted=4)"
      ]
     },
     "execution_count": 31,
     "metadata": {},
     "output_type": "execute_result"
    }
   ],
   "source": [
    "def before2012(x, start=2010):\n",
    "    \"\"\"\n",
    "    Looking at the top level directory here: ftp://ftp.nhtsa.dot.gov/fars/\n",
    "    We need to find those that are only years.\n",
    "    \n",
    "    In 2012 the directory pattern changed, so we'll just look at those\n",
    "    years before that.\n",
    "\n",
    "    start year can be as early as 1975.\n",
    "    \n",
    "    >>> before2012(\"2011\")\n",
    "    True\n",
    "    >>> before2012(\"Auxiliary_FARS_Files_Formats/\")\n",
    "    False\n",
    "    \n",
    "    \"\"\"\n",
    "    return False\n",
    "    \n",
    "    \n",
    "\n",
    "def isfars(fname):\n",
    "    \"\"\"\n",
    "    Return True if the filename looks like a FARS file\n",
    "    \n",
    "    >>> isfars(\"FARS2011.zip\")\n",
    "    True\n",
    "    >>> isfars(\"MI2011DBF.zip\")\n",
    "    False\n",
    "    \n",
    "    \"\"\"\n",
    "    return False\n",
    "\n",
    "\n",
    "import doctest\n",
    "doctest.testmod(verbose=True)"
   ]
  },
  {
   "cell_type": "markdown",
   "metadata": {},
   "source": [
    "## Data Exploration\n",
    "\n",
    "If you're having trouble downloading with the script you can try the FTP server from your web browser: [ftp://ftp.nhtsa.dot.gov/fars/](ftp://ftp.nhtsa.dot.gov/fars/)\n",
    "\n",
    "If that doesn't work there's one year available on our web server: http://anson.ucdavis.edu/~clarkf/"
   ]
  },
  {
   "cell_type": "code",
   "execution_count": 32,
   "metadata": {
    "collapsed": false
   },
   "outputs": [],
   "source": [
    "# Load in the accidents from 2011\n",
    "acc11 = DataFrame(iter(DBF(DATADIR + \"2011/accident.dbf\")))"
   ]
  },
  {
   "cell_type": "markdown",
   "metadata": {},
   "source": [
    "Usually the first thing I do when looking at a table is check the dimensions and the data types. From the documentation I expect approximately 40,000 rows and 50 columns."
   ]
  },
  {
   "cell_type": "code",
   "execution_count": 33,
   "metadata": {
    "collapsed": false
   },
   "outputs": [
    {
     "data": {
      "text/plain": [
       "(29867, 50)"
      ]
     },
     "execution_count": 33,
     "metadata": {},
     "output_type": "execute_result"
    }
   ],
   "source": [
    "acc11.shape"
   ]
  },
  {
   "cell_type": "code",
   "execution_count": 34,
   "metadata": {
    "collapsed": false
   },
   "outputs": [
    {
     "data": {
      "text/plain": [
       "STATE           int64\n",
       "ST_CASE         int64\n",
       "VE_TOTAL        int64\n",
       "VE_FORMS        int64\n",
       "PVH_INVL        int64\n",
       "PEDS            int64\n",
       "PERNOTMVIT      int64\n",
       "PERMVIT         int64\n",
       "PERSONS         int64\n",
       "COUNTY          int64\n",
       "CITY            int64\n",
       "DAY             int64\n",
       "MONTH           int64\n",
       "YEAR            int64\n",
       "DAY_WEEK        int64\n",
       "HOUR            int64\n",
       "MINUTE          int64\n",
       "NHS             int64\n",
       "ROAD_FNC        int64\n",
       "ROUTE           int64\n",
       "TWAY_ID        object\n",
       "TWAY_ID2       object\n",
       "MILEPT          int64\n",
       "LATITUDE      float64\n",
       "LONGITUD      float64\n",
       "SP_JUR          int64\n",
       "HARM_EV         int64\n",
       "MAN_COLL        int64\n",
       "RELJCT1         int64\n",
       "RELJCT2         int64\n",
       "TYP_INT         int64\n",
       "REL_ROAD        int64\n",
       "WRK_ZONE        int64\n",
       "LGT_COND        int64\n",
       "WEATHER1        int64\n",
       "WEATHER2        int64\n",
       "WEATHER         int64\n",
       "SCH_BUS         int64\n",
       "RAIL           object\n",
       "NOT_HOUR        int64\n",
       "NOT_MIN         int64\n",
       "ARR_HOUR        int64\n",
       "ARR_MIN         int64\n",
       "HOSP_HR         int64\n",
       "HOSP_MN         int64\n",
       "CF1             int64\n",
       "CF2             int64\n",
       "CF3             int64\n",
       "FATALS          int64\n",
       "DRUNK_DR        int64\n",
       "dtype: object"
      ]
     },
     "execution_count": 34,
     "metadata": {},
     "output_type": "execute_result"
    }
   ],
   "source": [
    "acc11.dtypes"
   ]
  },
  {
   "cell_type": "code",
   "execution_count": 9,
   "metadata": {
    "collapsed": false
   },
   "outputs": [
    {
     "data": {
      "text/html": [
       "<div>\n",
       "<table border=\"1\" class=\"dataframe\">\n",
       "  <thead>\n",
       "    <tr style=\"text-align: right;\">\n",
       "      <th></th>\n",
       "      <th>STATE</th>\n",
       "      <th>ST_CASE</th>\n",
       "      <th>VE_TOTAL</th>\n",
       "      <th>VE_FORMS</th>\n",
       "      <th>PVH_INVL</th>\n",
       "      <th>PEDS</th>\n",
       "      <th>PERNOTMVIT</th>\n",
       "      <th>PERMVIT</th>\n",
       "      <th>PERSONS</th>\n",
       "      <th>COUNTY</th>\n",
       "      <th>...</th>\n",
       "      <th>NOT_MIN</th>\n",
       "      <th>ARR_HOUR</th>\n",
       "      <th>ARR_MIN</th>\n",
       "      <th>HOSP_HR</th>\n",
       "      <th>HOSP_MN</th>\n",
       "      <th>CF1</th>\n",
       "      <th>CF2</th>\n",
       "      <th>CF3</th>\n",
       "      <th>FATALS</th>\n",
       "      <th>DRUNK_DR</th>\n",
       "    </tr>\n",
       "  </thead>\n",
       "  <tbody>\n",
       "    <tr>\n",
       "      <th>0</th>\n",
       "      <td>1</td>\n",
       "      <td>10001</td>\n",
       "      <td>1</td>\n",
       "      <td>1</td>\n",
       "      <td>0</td>\n",
       "      <td>0</td>\n",
       "      <td>0</td>\n",
       "      <td>1</td>\n",
       "      <td>1</td>\n",
       "      <td>5</td>\n",
       "      <td>...</td>\n",
       "      <td>99</td>\n",
       "      <td>17</td>\n",
       "      <td>2</td>\n",
       "      <td>99</td>\n",
       "      <td>99</td>\n",
       "      <td>0</td>\n",
       "      <td>0</td>\n",
       "      <td>0</td>\n",
       "      <td>1</td>\n",
       "      <td>1</td>\n",
       "    </tr>\n",
       "    <tr>\n",
       "      <th>1</th>\n",
       "      <td>1</td>\n",
       "      <td>10002</td>\n",
       "      <td>1</td>\n",
       "      <td>1</td>\n",
       "      <td>0</td>\n",
       "      <td>0</td>\n",
       "      <td>0</td>\n",
       "      <td>1</td>\n",
       "      <td>1</td>\n",
       "      <td>73</td>\n",
       "      <td>...</td>\n",
       "      <td>46</td>\n",
       "      <td>23</td>\n",
       "      <td>50</td>\n",
       "      <td>88</td>\n",
       "      <td>88</td>\n",
       "      <td>0</td>\n",
       "      <td>0</td>\n",
       "      <td>0</td>\n",
       "      <td>1</td>\n",
       "      <td>0</td>\n",
       "    </tr>\n",
       "    <tr>\n",
       "      <th>2</th>\n",
       "      <td>1</td>\n",
       "      <td>10003</td>\n",
       "      <td>2</td>\n",
       "      <td>2</td>\n",
       "      <td>0</td>\n",
       "      <td>0</td>\n",
       "      <td>0</td>\n",
       "      <td>5</td>\n",
       "      <td>5</td>\n",
       "      <td>97</td>\n",
       "      <td>...</td>\n",
       "      <td>99</td>\n",
       "      <td>9</td>\n",
       "      <td>16</td>\n",
       "      <td>99</td>\n",
       "      <td>99</td>\n",
       "      <td>0</td>\n",
       "      <td>0</td>\n",
       "      <td>0</td>\n",
       "      <td>2</td>\n",
       "      <td>1</td>\n",
       "    </tr>\n",
       "    <tr>\n",
       "      <th>3</th>\n",
       "      <td>1</td>\n",
       "      <td>10005</td>\n",
       "      <td>1</td>\n",
       "      <td>1</td>\n",
       "      <td>0</td>\n",
       "      <td>0</td>\n",
       "      <td>0</td>\n",
       "      <td>1</td>\n",
       "      <td>1</td>\n",
       "      <td>15</td>\n",
       "      <td>...</td>\n",
       "      <td>99</td>\n",
       "      <td>15</td>\n",
       "      <td>40</td>\n",
       "      <td>88</td>\n",
       "      <td>88</td>\n",
       "      <td>0</td>\n",
       "      <td>0</td>\n",
       "      <td>0</td>\n",
       "      <td>1</td>\n",
       "      <td>0</td>\n",
       "    </tr>\n",
       "    <tr>\n",
       "      <th>4</th>\n",
       "      <td>1</td>\n",
       "      <td>10006</td>\n",
       "      <td>1</td>\n",
       "      <td>1</td>\n",
       "      <td>0</td>\n",
       "      <td>0</td>\n",
       "      <td>0</td>\n",
       "      <td>2</td>\n",
       "      <td>2</td>\n",
       "      <td>71</td>\n",
       "      <td>...</td>\n",
       "      <td>99</td>\n",
       "      <td>6</td>\n",
       "      <td>16</td>\n",
       "      <td>99</td>\n",
       "      <td>99</td>\n",
       "      <td>0</td>\n",
       "      <td>0</td>\n",
       "      <td>0</td>\n",
       "      <td>1</td>\n",
       "      <td>0</td>\n",
       "    </tr>\n",
       "  </tbody>\n",
       "</table>\n",
       "<p>5 rows × 50 columns</p>\n",
       "</div>"
      ],
      "text/plain": [
       "   STATE  ST_CASE  VE_TOTAL  VE_FORMS  PVH_INVL  PEDS  PERNOTMVIT  PERMVIT  \\\n",
       "0      1    10001         1         1         0     0           0        1   \n",
       "1      1    10002         1         1         0     0           0        1   \n",
       "2      1    10003         2         2         0     0           0        5   \n",
       "3      1    10005         1         1         0     0           0        1   \n",
       "4      1    10006         1         1         0     0           0        2   \n",
       "\n",
       "   PERSONS  COUNTY    ...     NOT_MIN  ARR_HOUR  ARR_MIN  HOSP_HR  HOSP_MN  \\\n",
       "0        1       5    ...          99        17        2       99       99   \n",
       "1        1      73    ...          46        23       50       88       88   \n",
       "2        5      97    ...          99         9       16       99       99   \n",
       "3        1      15    ...          99        15       40       88       88   \n",
       "4        2      71    ...          99         6       16       99       99   \n",
       "\n",
       "   CF1  CF2  CF3  FATALS  DRUNK_DR  \n",
       "0    0    0    0       1         1  \n",
       "1    0    0    0       1         0  \n",
       "2    0    0    0       2         1  \n",
       "3    0    0    0       1         0  \n",
       "4    0    0    0       1         0  \n",
       "\n",
       "[5 rows x 50 columns]"
      ]
     },
     "execution_count": 9,
     "metadata": {},
     "output_type": "execute_result"
    }
   ],
   "source": [
    "acc11.head()"
   ]
  },
  {
   "cell_type": "markdown",
   "metadata": {},
   "source": [
    "These are mostly integers, because they're coded according to a manual. Think categorical variables, or factors in R. To actually make sense of these we'll need to have all the lookup tables. If you can find them online please let me know!\n",
    "\n",
    "## Maps\n",
    "\n",
    "Lets map accidents that occurred around Davis / Sacramento.\n",
    "\n",
    "We'll use folium: https://folium.readthedocs.io/en/latest/ \n",
    "\n",
    "(Thanks Nick for the recommendation)"
   ]
  },
  {
   "cell_type": "code",
   "execution_count": 35,
   "metadata": {
    "collapsed": false
   },
   "outputs": [],
   "source": [
    "# Might need to install this from command line:\n",
    "#\n",
    "# $ pip install folium\n",
    "\n",
    "import folium"
   ]
  },
  {
   "cell_type": "code",
   "execution_count": 36,
   "metadata": {
    "collapsed": false
   },
   "outputs": [
    {
     "data": {
      "text/html": [
       "<div style=\"width:100%;\"><div style=\"position:relative;width:100%;height:0;padding-bottom:60%;\"><iframe src=\"data:text/html;charset=utf-8;base64,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\" style=\"position:absolute;width:100%;height:100%;left:0;top:0;border:none !important;\" allowfullscreen webkitallowfullscreen mozallowfullscreen></iframe></div></div>"
      ],
      "text/plain": [
       "<folium.folium.Map at 0x11e8aa358>"
      ]
     },
     "execution_count": 36,
     "metadata": {},
     "output_type": "execute_result"
    }
   ],
   "source": [
    "sac = folium.Map(location=[38.5449, -121.7405])\n",
    "sac"
   ]
  },
  {
   "cell_type": "markdown",
   "metadata": {},
   "source": [
    "That's a nice looking map, now we'll add points for accidents.\n",
    "\n",
    "First we need to pick out those accidents to display. We can subset using square brackets."
   ]
  },
  {
   "cell_type": "code",
   "execution_count": 37,
   "metadata": {
    "collapsed": true
   },
   "outputs": [],
   "source": [
    "acc_sac = acc11[(38 < acc11[\"LATITUDE\"])\n",
    "                & (acc11[\"LATITUDE\"] < 39)\n",
    "                & (-122 < acc11[\"LONGITUD\"])\n",
    "                & (acc11[\"LONGITUD\"] < -121)\n",
    "               ]"
   ]
  },
  {
   "cell_type": "code",
   "execution_count": 38,
   "metadata": {
    "collapsed": false
   },
   "outputs": [
    {
     "data": {
      "text/plain": [
       "(191, 50)"
      ]
     },
     "execution_count": 38,
     "metadata": {},
     "output_type": "execute_result"
    }
   ],
   "source": [
    "acc_sac.shape"
   ]
  },
  {
   "cell_type": "code",
   "execution_count": 39,
   "metadata": {
    "collapsed": false
   },
   "outputs": [],
   "source": [
    "for x in acc_sac[[\"LATITUDE\", \"LONGITUD\"]].itertuples(index = False):\n",
    "    folium.Marker(x).add_to(sac)"
   ]
  },
  {
   "cell_type": "code",
   "execution_count": 40,
   "metadata": {
    "collapsed": false
   },
   "outputs": [
    {
     "data": {
      "text/html": [
       "<div style=\"width:100%;\"><div style=\"position:relative;width:100%;height:0;padding-bottom:60%;\"><iframe src=\"data:text/html;charset=utf-8;base64,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\" style=\"position:absolute;width:100%;height:100%;left:0;top:0;border:none !important;\" allowfullscreen webkitallowfullscreen mozallowfullscreen></iframe></div></div>"
      ],
      "text/plain": [
       "<folium.folium.Map at 0x11e8aa358>"
      ]
     },
     "execution_count": 40,
     "metadata": {},
     "output_type": "execute_result"
    }
   ],
   "source": [
    "sac"
   ]
  },
  {
   "cell_type": "markdown",
   "metadata": {},
   "source": [
    "## Exercise 2\n",
    "\n",
    "Modify the above code to add a popup for each point indicating whether `DRUNK_DR` is 0 or 1. See the folium docs: https://folium.readthedocs.io/en/latest/quickstart.html#markers"
   ]
  },
  {
   "cell_type": "markdown",
   "metadata": {},
   "source": [
    "## The Golden Hour\n",
    "\n",
    "gold·en hour (noun) MEDICINE\n",
    "\n",
    "> The first hour after the occurrence of a traumatic injury, considered the most critical for successful emergency treatment.\n",
    "\n",
    "Let's look at how much time passed between when an accident occurred and the first responders arrived on the scene.\n",
    "\n",
    "Here's some relevant info from the docs:\n",
    "\n",
    "```\n",
    "C9B Minute of Crash\n",
    "\n",
    "Definition: This data element records the minutes after the hour at which the crash occurred.\n",
    "\n",
    "Additional Information: All time is 24-hour military time.\n",
    "\n",
    "The time of the crash/arrival of the emergency medical service can occur in a different day than\n",
    "the arrival of emergency medical service at the crash scene/hospital.\n",
    "This data element also appears in the Vehicle and Person data files and in the Parkwork data\n",
    "file as PMINUTE.\n",
    "\n",
    "SAS Name: MINUTE\n",
    "1975- 2010-\n",
    "2008 2009 Later\n",
    "00-59 00-59 00-59 Minute\n",
    "-- 88 -- Not Applicable or Not Notified\n",
    "99 99 99 Unknown\n",
    "\n",
    "\n",
    "C30B Minute of Arrival at Scene\n",
    "\n",
    "Definition: This data element records the minutes after the hour that emergency medical\n",
    "service arrived on the crash scene.\n",
    "\n",
    "Prior to 2015, this data element’s Locator Code or Data Element Number was C29B.\n",
    "SAS Name: ARR_MIN\n",
    "1975- 1999- 2009-\n",
    "1998 2008 Later\n",
    "00-59 00-59 00-59 Minute\n",
    "00 -- Not Notified or Officially Cancelled\n",
    "(when ARR_HOUR = 00)\n",
    "-- 00 -- Not Notified (when ARR_HOUR = 00)\n",
    "-- -- 88 Not Applicable or Not Notified\n",
    "-- 97 97 Officially Cancelled\n",
    "-- 98 98 Unknown if Arrived\n",
    "99 99 99 Unknown Minutes\n",
    "```"
   ]
  },
  {
   "cell_type": "markdown",
   "metadata": {},
   "source": [
    "So we can use the time elements in the data to see how long it takes for the emergency medical services to arrive.\n",
    "\n",
    "__Major point:__ this can be done as a streaming computation.\n",
    "\n",
    "I think of streams of data as a generalization of typical in memory data structures. In this case all I will be doing is counting, so one pass through the data is sufficient. This technique can be used to efficiently count all the responses in the entire data set."
   ]
  },
  {
   "cell_type": "code",
   "execution_count": 41,
   "metadata": {
    "collapsed": false
   },
   "outputs": [],
   "source": [
    "minutes11 = fars.all_responses(DATADIR + \"2011/accident.dbf\")"
   ]
  },
  {
   "cell_type": "code",
   "execution_count": 42,
   "metadata": {
    "collapsed": false
   },
   "outputs": [
    {
     "data": {
      "text/plain": [
       "<generator object all_responses at 0x11eebff68>"
      ]
     },
     "execution_count": 42,
     "metadata": {},
     "output_type": "execute_result"
    }
   ],
   "source": [
    "minutes11"
   ]
  },
  {
   "cell_type": "code",
   "execution_count": 45,
   "metadata": {
    "collapsed": false
   },
   "outputs": [
    {
     "data": {
      "text/plain": [
       "2"
      ]
     },
     "execution_count": 45,
     "metadata": {},
     "output_type": "execute_result"
    }
   ],
   "source": [
    "next(minutes11)"
   ]
  },
  {
   "cell_type": "code",
   "execution_count": 46,
   "metadata": {
    "collapsed": true
   },
   "outputs": [],
   "source": [
    "from collections import Counter\n",
    "\n",
    "count11 = Counter(minutes11)"
   ]
  },
  {
   "cell_type": "code",
   "execution_count": 47,
   "metadata": {
    "collapsed": false
   },
   "outputs": [
    {
     "data": {
      "text/plain": [
       "[(-inf, 14321),\n",
       " (6, 1024),\n",
       " (5, 977),\n",
       " (7, 959),\n",
       " (10, 894),\n",
       " (8, 874),\n",
       " (9, 824),\n",
       " (4, 819),\n",
       " (11, 686),\n",
       " (12, 652)]"
      ]
     },
     "execution_count": 47,
     "metadata": {},
     "output_type": "execute_result"
    }
   ],
   "source": [
    "count11.most_common(10)"
   ]
  },
  {
   "cell_type": "code",
   "execution_count": 48,
   "metadata": {
    "collapsed": true
   },
   "outputs": [],
   "source": [
    "# Little more cleaning so we can visualize\n",
    "\n",
    "import math\n",
    "del count11[-math.inf]"
   ]
  },
  {
   "cell_type": "code",
   "execution_count": 49,
   "metadata": {
    "collapsed": false
   },
   "outputs": [
    {
     "data": {
      "text/plain": [
       "[(6, 1024),\n",
       " (5, 977),\n",
       " (7, 959),\n",
       " (10, 894),\n",
       " (8, 874),\n",
       " (9, 824),\n",
       " (4, 819),\n",
       " (11, 686),\n",
       " (12, 652),\n",
       " (13, 577)]"
      ]
     },
     "execution_count": 49,
     "metadata": {},
     "output_type": "execute_result"
    }
   ],
   "source": [
    "count11.most_common(10)"
   ]
  },
  {
   "cell_type": "code",
   "execution_count": 53,
   "metadata": {
    "collapsed": true
   },
   "outputs": [],
   "source": [
    "# Boilerplate for plotting in Ipython notebooks\n",
    "\n",
    "import matplotlib.pyplot as plt\n",
    "% matplotlib inline\n",
    "plt.rcParams['figure.figsize'] = (8, 6.0)"
   ]
  },
  {
   "cell_type": "code",
   "execution_count": 51,
   "metadata": {
    "collapsed": false
   },
   "outputs": [],
   "source": [
    "minutes = list(count11.keys())\n",
    "counts = list(count11.values())"
   ]
  },
  {
   "cell_type": "code",
   "execution_count": 54,
   "metadata": {
    "collapsed": false
   },
   "outputs": [
    {
     "data": {
      "text/plain": [
       "[<matplotlib.lines.Line2D at 0x116fa8e10>]"
      ]
     },
     "execution_count": 54,
     "metadata": {},
     "output_type": "execute_result"
    },
    {
     "data": {
      "image/png": "[encoded data removed]",
      "text/plain": [
       "<matplotlib.figure.Figure at 0x116cf4f60>"
      ]
     },
     "metadata": {},
     "output_type": "display_data"
    }
   ],
   "source": [
    "plt.scatter(minutes, counts)\n",
    "plt.title(\"minutes between accident and first medical response\")\n",
    "plt.xlim((-10, 120))\n",
    "plt.ylim((0, 1200))\n",
    "plt.xlabel(\"minutes\")\n",
    "plt.ylabel(\"counts\")\n",
    "\n",
    "# The golden hour\n",
    "plt.plot((60, 60), plt.ylim())"
   ]
  },
  {
   "cell_type": "markdown",
   "metadata": {},
   "source": [
    "So it looks like emergency medical services typically made it to the scene within the first hour, with most responses occurring by 20 minutes.\n",
    "\n",
    "I wonder if it was any different before cellphones were as popular?"
   ]
  },
  {
   "cell_type": "code",
   "execution_count": 25,
   "metadata": {
    "collapsed": false
   },
   "outputs": [],
   "source": [
    "def plot_response_time(fname = DATADIR + \"2011/accident.dbf\"):\n",
    "    \"\"\"\n",
    "    Take the code we wrote interactively above and generalize it into a function.\n",
    "    \"\"\"\n",
    "    responses = fars.all_responses(fname)\n",
    "    counted = Counter(responses)\n",
    "    del counted[-math.inf]\n",
    "\n",
    "    minutes = list(counted.keys())\n",
    "    counts = list(counted.values())\n",
    "\n",
    "    plt.scatter(minutes, counts)\n",
    "    plt.title(fname + \": minutes between accident and first medical response\")\n",
    "    plt.xlim((-10, 120))\n",
    "    plt.ylim((0, max(counts) + 100))\n",
    "    plt.xlabel(\"minutes\")\n",
    "    plt.ylabel(\"counts\")\n",
    "\n",
    "    # The golden hour\n",
    "    plt.plot((60, 60), plt.ylim())"
   ]
  },
  {
   "cell_type": "code",
   "execution_count": 26,
   "metadata": {
    "collapsed": false
   },
   "outputs": [
    {
     "data": {
      "image/png": "[encoded data removed]",
      "text/plain": [
       "<matplotlib.figure.Figure at 0x11ccdd668>"
      ]
     },
     "metadata": {},
     "output_type": "display_data"
    }
   ],
   "source": [
    "plot_response_time(DATADIR + \"1986/acc1986.dbf\")"
   ]
  },
  {
   "cell_type": "markdown",
   "metadata": {},
   "source": [
    "Looks like more people rounded to the 5 minute mark in 1986."
   ]
  },
  {
   "cell_type": "markdown",
   "metadata": {},
   "source": [
    "## Exercise 3\n",
    "\n",
    "Using the `Counter()` object, find out relatively how many responses were within the golden hour.\n",
    "\n",
    "## Bonus\n",
    "\n",
    "Make this plot for all the data since 1975, using a minimal amount of memory.\n",
    "\n",
    "See `itertools.chain`."
   ]
  }
 ],
 "metadata": {
  "anaconda-cloud": {},
  "kernelspec": {
   "display_name": "Python 3",
   "language": "python",
   "name": "python3"
  },
  "language_info": {
   "codemirror_mode": {
    "name": "ipython",
    "version": 3
   },
   "file_extension": ".py",
   "mimetype": "text/x-python",
   "name": "python",
   "nbconvert_exporter": "python",
   "pygments_lexer": "ipython3",
   "version": "3.5.2"
  }
 },
 "nbformat": 4,
 "nbformat_minor": 0
}
